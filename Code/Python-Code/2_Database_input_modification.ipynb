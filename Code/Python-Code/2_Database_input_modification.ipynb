{
 "cells": [
  {
   "cell_type": "code",
   "execution_count": 1,
   "metadata": {},
   "outputs": [
    {
     "data": {
      "text/html": [
       "<style>.container { width:100% !important; }</style>"
      ],
      "text/plain": [
       "<IPython.core.display.HTML object>"
      ]
     },
     "execution_count": 1,
     "metadata": {},
     "output_type": "execute_result"
    }
   ],
   "source": [
    "from IPython.core.display import HTML\n",
    "HTML(\"<style>.container { width:100% !important; }</style>\")"
   ]
  },
  {
   "cell_type": "code",
   "execution_count": 2,
   "metadata": {},
   "outputs": [],
   "source": [
    "import numpy as np\n",
    "import pyprind\n",
    "import seaborn as sns\n",
    "import pandas as pd\n",
    "import os\n",
    "import pprint\n",
    "import copy\n",
    "import wurst as w\n",
    "import brightway2 as bw\n",
    "\n",
    "from brightway2 import *\n",
    "from matplotlib import pyplot as plt\n",
    "from pandas import DataFrame\n",
    "from wurst import *\n",
    "from wurst.searching import *\n",
    "from wurst.transformations.activity import change_exchanges_by_constant_factor\n",
    "from wurst.transformations.uncertainty import rescale_exchange\n",
    "from wurst.IMAGE.io import *\n",
    "from wurst.IMAGE import *\n",
    "from wurst.ecoinvent.electricity_markets import *\n",
    "from wurst.ecoinvent.filters import *\n",
    "from wurst.transformations.geo import *"
   ]
  },
  {
   "cell_type": "code",
   "execution_count": 3,
   "metadata": {},
   "outputs": [],
   "source": [
    "%run 1_Functions_Market_electricity_data.ipynb"
   ]
  },
  {
   "cell_type": "code",
   "execution_count": 4,
   "metadata": {},
   "outputs": [],
   "source": [
    "projects.set_current(\"DAC_LCA\")"
   ]
  },
  {
   "cell_type": "markdown",
   "metadata": {},
   "source": [
    "## 1. Importing databases"
   ]
  },
  {
   "cell_type": "code",
   "execution_count": 13,
   "metadata": {
    "collapsed": true
   },
   "outputs": [
    {
     "name": "stdout",
     "output_type": "stream",
     "text": [
      "Creating default biosphere\n",
      "\n"
     ]
    },
    {
     "name": "stderr",
     "output_type": "stream",
     "text": [
      "Writing activities to SQLite3 database:\n"
     ]
    },
    {
     "name": "stdout",
     "output_type": "stream",
     "text": [
      "Applying strategy: normalize_units\n",
      "Applying strategy: drop_unspecified_subcategories\n",
      "Applied 2 strategies in 0.01 seconds\n"
     ]
    },
    {
     "name": "stderr",
     "output_type": "stream",
     "text": [
      "0% [##############################] 100% | ETA: 00:00:00\n",
      "Total time elapsed: 00:00:00\n"
     ]
    },
    {
     "name": "stdout",
     "output_type": "stream",
     "text": [
      "Title: Writing activities to SQLite3 database:\n",
      "  Started: 12/22/2020 18:47:19\n",
      "  Finished: 12/22/2020 18:47:20\n",
      "  Total time elapsed: 00:00:00\n",
      "  CPU %: 65.70\n",
      "  Memory %: 16.46\n",
      "Created database: biosphere3\n",
      "Creating default LCIA methods\n",
      "\n",
      "Applying strategy: normalize_units\n",
      "Applying strategy: set_biosphere_type\n",
      "Applying strategy: drop_unspecified_subcategories\n",
      "Applying strategy: link_iterable_by_fields\n",
      "Applied 4 strategies in 1.21 seconds\n",
      "Wrote 850 LCIA methods with 219059 characterization factors\n",
      "Creating core data migrations\n",
      "\n"
     ]
    }
   ],
   "source": [
    "bw2setup()"
   ]
  },
  {
   "cell_type": "code",
   "execution_count": 12,
   "metadata": {
    "collapsed": true
   },
   "outputs": [
    {
     "name": "stdout",
     "output_type": "stream",
     "text": [
      "Extracting XML data from 18121 datasets\n"
     ]
    },
    {
     "ename": "KeyboardInterrupt",
     "evalue": "",
     "output_type": "error",
     "traceback": [
      "\u001b[1;31m---------------------------------------------------------------------------\u001b[0m",
      "\u001b[1;31mKeyboardInterrupt\u001b[0m                         Traceback (most recent call last)",
      "\u001b[1;32m<ipython-input-12-48e0626b6e81>\u001b[0m in \u001b[0;36m<module>\u001b[1;34m()\u001b[0m\n\u001b[0;32m      1\u001b[0m \u001b[0mei36_path\u001b[0m \u001b[1;33m=\u001b[0m \u001b[1;34mr\"C:\\Users\\yqiu\\Box\\DAC LCA-IAM\\YQ_work\\Work\\WURST_code\\Ecoinvent\\ecoinvent 3.6_cut-off_ecoSpold02\\datasets\"\u001b[0m\u001b[1;33m\u001b[0m\u001b[1;33m\u001b[0m\u001b[0m\n\u001b[1;32m----> 2\u001b[1;33m \u001b[0mei_36\u001b[0m \u001b[1;33m=\u001b[0m \u001b[0mSingleOutputEcospold2Importer\u001b[0m\u001b[1;33m(\u001b[0m\u001b[0mei36_path\u001b[0m\u001b[1;33m,\u001b[0m \u001b[1;34m\"ecoinvent3.6\"\u001b[0m\u001b[1;33m)\u001b[0m\u001b[1;33m\u001b[0m\u001b[1;33m\u001b[0m\u001b[0m\n\u001b[0m\u001b[0;32m      3\u001b[0m \u001b[0mei_36\u001b[0m\u001b[1;33m.\u001b[0m\u001b[0mapply_strategies\u001b[0m\u001b[1;33m(\u001b[0m\u001b[1;33m)\u001b[0m\u001b[1;33m\u001b[0m\u001b[1;33m\u001b[0m\u001b[0m\n\u001b[0;32m      4\u001b[0m \u001b[0mei_36\u001b[0m\u001b[1;33m.\u001b[0m\u001b[0mstatistics\u001b[0m\u001b[1;33m(\u001b[0m\u001b[1;33m)\u001b[0m\u001b[1;33m\u001b[0m\u001b[1;33m\u001b[0m\u001b[0m\n\u001b[0;32m      5\u001b[0m \u001b[0mei_36\u001b[0m\u001b[1;33m.\u001b[0m\u001b[0mwrite_database\u001b[0m\u001b[1;33m(\u001b[0m\u001b[1;33m)\u001b[0m\u001b[1;33m\u001b[0m\u001b[1;33m\u001b[0m\u001b[0m\n",
      "\u001b[1;32mC:\\Users\\yqiu\\Anaconda3\\envs\\DAC_LCA_project\\lib\\site-packages\\bw2io\\importers\\ecospold2.py\u001b[0m in \u001b[0;36m__init__\u001b[1;34m(self, dirpath, db_name, extractor, use_mp, signal)\u001b[0m\n\u001b[0;32m     65\u001b[0m         \u001b[0mstart\u001b[0m \u001b[1;33m=\u001b[0m \u001b[0mtime\u001b[0m\u001b[1;33m(\u001b[0m\u001b[1;33m)\u001b[0m\u001b[1;33m\u001b[0m\u001b[1;33m\u001b[0m\u001b[0m\n\u001b[0;32m     66\u001b[0m         \u001b[1;32mtry\u001b[0m\u001b[1;33m:\u001b[0m\u001b[1;33m\u001b[0m\u001b[1;33m\u001b[0m\u001b[0m\n\u001b[1;32m---> 67\u001b[1;33m             \u001b[0mself\u001b[0m\u001b[1;33m.\u001b[0m\u001b[0mdata\u001b[0m \u001b[1;33m=\u001b[0m \u001b[0mextractor\u001b[0m\u001b[1;33m.\u001b[0m\u001b[0mextract\u001b[0m\u001b[1;33m(\u001b[0m\u001b[0mdirpath\u001b[0m\u001b[1;33m,\u001b[0m \u001b[0mdb_name\u001b[0m\u001b[1;33m,\u001b[0m \u001b[0muse_mp\u001b[0m\u001b[1;33m=\u001b[0m\u001b[0muse_mp\u001b[0m\u001b[1;33m)\u001b[0m\u001b[1;33m\u001b[0m\u001b[1;33m\u001b[0m\u001b[0m\n\u001b[0m\u001b[0;32m     68\u001b[0m         \u001b[1;32mexcept\u001b[0m \u001b[0mRuntimeError\u001b[0m \u001b[1;32mas\u001b[0m \u001b[0me\u001b[0m\u001b[1;33m:\u001b[0m\u001b[1;33m\u001b[0m\u001b[1;33m\u001b[0m\u001b[0m\n\u001b[0;32m     69\u001b[0m             raise MultiprocessingError('Multiprocessing error; re-run using `use_mp=False`'\n",
      "\u001b[1;32mC:\\Users\\yqiu\\Anaconda3\\envs\\DAC_LCA_project\\lib\\site-packages\\bw2io\\extractors\\ecospold2.py\u001b[0m in \u001b[0;36mextract\u001b[1;34m(cls, dirpath, db_name, use_mp)\u001b[0m\n\u001b[0;32m     89\u001b[0m                         \u001b[0mEcospold2DataExtractor\u001b[0m\u001b[1;33m.\u001b[0m\u001b[0mextract_activity\u001b[0m\u001b[1;33m,\u001b[0m\u001b[1;33m\u001b[0m\u001b[1;33m\u001b[0m\u001b[0m\n\u001b[0;32m     90\u001b[0m                         \u001b[0margs\u001b[0m\u001b[1;33m=\u001b[0m\u001b[1;33m(\u001b[0m\u001b[0mdirpath\u001b[0m\u001b[1;33m,\u001b[0m \u001b[0mx\u001b[0m\u001b[1;33m,\u001b[0m \u001b[0mdb_name\u001b[0m\u001b[1;33m)\u001b[0m\u001b[1;33m\u001b[0m\u001b[1;33m\u001b[0m\u001b[0m\n\u001b[1;32m---> 91\u001b[1;33m                     ) for x in filelist\n\u001b[0m\u001b[0;32m     92\u001b[0m                 ]\n\u001b[0;32m     93\u001b[0m                 \u001b[0mdata\u001b[0m \u001b[1;33m=\u001b[0m \u001b[1;33m[\u001b[0m\u001b[0mp\u001b[0m\u001b[1;33m.\u001b[0m\u001b[0mget\u001b[0m\u001b[1;33m(\u001b[0m\u001b[1;33m)\u001b[0m \u001b[1;32mfor\u001b[0m \u001b[0mp\u001b[0m \u001b[1;32min\u001b[0m \u001b[0mresults\u001b[0m\u001b[1;33m]\u001b[0m\u001b[1;33m\u001b[0m\u001b[1;33m\u001b[0m\u001b[0m\n",
      "\u001b[1;32mC:\\Users\\yqiu\\Anaconda3\\envs\\DAC_LCA_project\\lib\\site-packages\\bw2io\\extractors\\ecospold2.py\u001b[0m in \u001b[0;36m<listcomp>\u001b[1;34m(.0)\u001b[0m\n\u001b[0;32m     89\u001b[0m                         \u001b[0mEcospold2DataExtractor\u001b[0m\u001b[1;33m.\u001b[0m\u001b[0mextract_activity\u001b[0m\u001b[1;33m,\u001b[0m\u001b[1;33m\u001b[0m\u001b[1;33m\u001b[0m\u001b[0m\n\u001b[0;32m     90\u001b[0m                         \u001b[0margs\u001b[0m\u001b[1;33m=\u001b[0m\u001b[1;33m(\u001b[0m\u001b[0mdirpath\u001b[0m\u001b[1;33m,\u001b[0m \u001b[0mx\u001b[0m\u001b[1;33m,\u001b[0m \u001b[0mdb_name\u001b[0m\u001b[1;33m)\u001b[0m\u001b[1;33m\u001b[0m\u001b[1;33m\u001b[0m\u001b[0m\n\u001b[1;32m---> 91\u001b[1;33m                     ) for x in filelist\n\u001b[0m\u001b[0;32m     92\u001b[0m                 ]\n\u001b[0;32m     93\u001b[0m                 \u001b[0mdata\u001b[0m \u001b[1;33m=\u001b[0m \u001b[1;33m[\u001b[0m\u001b[0mp\u001b[0m\u001b[1;33m.\u001b[0m\u001b[0mget\u001b[0m\u001b[1;33m(\u001b[0m\u001b[1;33m)\u001b[0m \u001b[1;32mfor\u001b[0m \u001b[0mp\u001b[0m \u001b[1;32min\u001b[0m \u001b[0mresults\u001b[0m\u001b[1;33m]\u001b[0m\u001b[1;33m\u001b[0m\u001b[1;33m\u001b[0m\u001b[0m\n",
      "\u001b[1;32mC:\\Users\\yqiu\\Anaconda3\\envs\\DAC_LCA_project\\lib\\multiprocessing\\pool.py\u001b[0m in \u001b[0;36mapply_async\u001b[1;34m(self, func, args, kwds, callback, error_callback)\u001b[0m\n\u001b[0;32m    355\u001b[0m             \u001b[1;32mraise\u001b[0m \u001b[0mValueError\u001b[0m\u001b[1;33m(\u001b[0m\u001b[1;34m\"Pool not running\"\u001b[0m\u001b[1;33m)\u001b[0m\u001b[1;33m\u001b[0m\u001b[1;33m\u001b[0m\u001b[0m\n\u001b[0;32m    356\u001b[0m         \u001b[0mresult\u001b[0m \u001b[1;33m=\u001b[0m \u001b[0mApplyResult\u001b[0m\u001b[1;33m(\u001b[0m\u001b[0mself\u001b[0m\u001b[1;33m.\u001b[0m\u001b[0m_cache\u001b[0m\u001b[1;33m,\u001b[0m \u001b[0mcallback\u001b[0m\u001b[1;33m,\u001b[0m \u001b[0merror_callback\u001b[0m\u001b[1;33m)\u001b[0m\u001b[1;33m\u001b[0m\u001b[1;33m\u001b[0m\u001b[0m\n\u001b[1;32m--> 357\u001b[1;33m         \u001b[0mself\u001b[0m\u001b[1;33m.\u001b[0m\u001b[0m_taskqueue\u001b[0m\u001b[1;33m.\u001b[0m\u001b[0mput\u001b[0m\u001b[1;33m(\u001b[0m\u001b[1;33m(\u001b[0m\u001b[1;33m[\u001b[0m\u001b[1;33m(\u001b[0m\u001b[0mresult\u001b[0m\u001b[1;33m.\u001b[0m\u001b[0m_job\u001b[0m\u001b[1;33m,\u001b[0m \u001b[1;36m0\u001b[0m\u001b[1;33m,\u001b[0m \u001b[0mfunc\u001b[0m\u001b[1;33m,\u001b[0m \u001b[0margs\u001b[0m\u001b[1;33m,\u001b[0m \u001b[0mkwds\u001b[0m\u001b[1;33m)\u001b[0m\u001b[1;33m]\u001b[0m\u001b[1;33m,\u001b[0m \u001b[1;32mNone\u001b[0m\u001b[1;33m)\u001b[0m\u001b[1;33m)\u001b[0m\u001b[1;33m\u001b[0m\u001b[1;33m\u001b[0m\u001b[0m\n\u001b[0m\u001b[0;32m    358\u001b[0m         \u001b[1;32mreturn\u001b[0m \u001b[0mresult\u001b[0m\u001b[1;33m\u001b[0m\u001b[1;33m\u001b[0m\u001b[0m\n\u001b[0;32m    359\u001b[0m \u001b[1;33m\u001b[0m\u001b[0m\n",
      "\u001b[1;32mC:\\Users\\yqiu\\Anaconda3\\envs\\DAC_LCA_project\\lib\\queue.py\u001b[0m in \u001b[0;36mput\u001b[1;34m(self, item, block, timeout)\u001b[0m\n\u001b[0;32m    143\u001b[0m             \u001b[0mself\u001b[0m\u001b[1;33m.\u001b[0m\u001b[0m_put\u001b[0m\u001b[1;33m(\u001b[0m\u001b[0mitem\u001b[0m\u001b[1;33m)\u001b[0m\u001b[1;33m\u001b[0m\u001b[1;33m\u001b[0m\u001b[0m\n\u001b[0;32m    144\u001b[0m             \u001b[0mself\u001b[0m\u001b[1;33m.\u001b[0m\u001b[0munfinished_tasks\u001b[0m \u001b[1;33m+=\u001b[0m \u001b[1;36m1\u001b[0m\u001b[1;33m\u001b[0m\u001b[1;33m\u001b[0m\u001b[0m\n\u001b[1;32m--> 145\u001b[1;33m             \u001b[0mself\u001b[0m\u001b[1;33m.\u001b[0m\u001b[0mnot_empty\u001b[0m\u001b[1;33m.\u001b[0m\u001b[0mnotify\u001b[0m\u001b[1;33m(\u001b[0m\u001b[1;33m)\u001b[0m\u001b[1;33m\u001b[0m\u001b[1;33m\u001b[0m\u001b[0m\n\u001b[0m\u001b[0;32m    146\u001b[0m \u001b[1;33m\u001b[0m\u001b[0m\n\u001b[0;32m    147\u001b[0m     \u001b[1;32mdef\u001b[0m \u001b[0mget\u001b[0m\u001b[1;33m(\u001b[0m\u001b[0mself\u001b[0m\u001b[1;33m,\u001b[0m \u001b[0mblock\u001b[0m\u001b[1;33m=\u001b[0m\u001b[1;32mTrue\u001b[0m\u001b[1;33m,\u001b[0m \u001b[0mtimeout\u001b[0m\u001b[1;33m=\u001b[0m\u001b[1;32mNone\u001b[0m\u001b[1;33m)\u001b[0m\u001b[1;33m:\u001b[0m\u001b[1;33m\u001b[0m\u001b[1;33m\u001b[0m\u001b[0m\n",
      "\u001b[1;32mC:\\Users\\yqiu\\Anaconda3\\envs\\DAC_LCA_project\\lib\\threading.py\u001b[0m in \u001b[0;36mnotify\u001b[1;34m(self, n)\u001b[0m\n\u001b[0;32m    342\u001b[0m \u001b[1;33m\u001b[0m\u001b[0m\n\u001b[0;32m    343\u001b[0m         \"\"\"\n\u001b[1;32m--> 344\u001b[1;33m         \u001b[1;32mif\u001b[0m \u001b[1;32mnot\u001b[0m \u001b[0mself\u001b[0m\u001b[1;33m.\u001b[0m\u001b[0m_is_owned\u001b[0m\u001b[1;33m(\u001b[0m\u001b[1;33m)\u001b[0m\u001b[1;33m:\u001b[0m\u001b[1;33m\u001b[0m\u001b[1;33m\u001b[0m\u001b[0m\n\u001b[0m\u001b[0;32m    345\u001b[0m             \u001b[1;32mraise\u001b[0m \u001b[0mRuntimeError\u001b[0m\u001b[1;33m(\u001b[0m\u001b[1;34m\"cannot notify on un-acquired lock\"\u001b[0m\u001b[1;33m)\u001b[0m\u001b[1;33m\u001b[0m\u001b[1;33m\u001b[0m\u001b[0m\n\u001b[0;32m    346\u001b[0m         \u001b[0mall_waiters\u001b[0m \u001b[1;33m=\u001b[0m \u001b[0mself\u001b[0m\u001b[1;33m.\u001b[0m\u001b[0m_waiters\u001b[0m\u001b[1;33m\u001b[0m\u001b[1;33m\u001b[0m\u001b[0m\n",
      "\u001b[1;32mC:\\Users\\yqiu\\Anaconda3\\envs\\DAC_LCA_project\\lib\\threading.py\u001b[0m in \u001b[0;36m_is_owned\u001b[1;34m(self)\u001b[0m\n\u001b[0;32m    255\u001b[0m         \u001b[1;31m# Return True if lock is owned by current_thread.\u001b[0m\u001b[1;33m\u001b[0m\u001b[1;33m\u001b[0m\u001b[1;33m\u001b[0m\u001b[0m\n\u001b[0;32m    256\u001b[0m         \u001b[1;31m# This method is called only if _lock doesn't have _is_owned().\u001b[0m\u001b[1;33m\u001b[0m\u001b[1;33m\u001b[0m\u001b[1;33m\u001b[0m\u001b[0m\n\u001b[1;32m--> 257\u001b[1;33m         \u001b[1;32mif\u001b[0m \u001b[0mself\u001b[0m\u001b[1;33m.\u001b[0m\u001b[0m_lock\u001b[0m\u001b[1;33m.\u001b[0m\u001b[0macquire\u001b[0m\u001b[1;33m(\u001b[0m\u001b[1;36m0\u001b[0m\u001b[1;33m)\u001b[0m\u001b[1;33m:\u001b[0m\u001b[1;33m\u001b[0m\u001b[1;33m\u001b[0m\u001b[0m\n\u001b[0m\u001b[0;32m    258\u001b[0m             \u001b[0mself\u001b[0m\u001b[1;33m.\u001b[0m\u001b[0m_lock\u001b[0m\u001b[1;33m.\u001b[0m\u001b[0mrelease\u001b[0m\u001b[1;33m(\u001b[0m\u001b[1;33m)\u001b[0m\u001b[1;33m\u001b[0m\u001b[1;33m\u001b[0m\u001b[0m\n\u001b[0;32m    259\u001b[0m             \u001b[1;32mreturn\u001b[0m \u001b[1;32mFalse\u001b[0m\u001b[1;33m\u001b[0m\u001b[1;33m\u001b[0m\u001b[0m\n",
      "\u001b[1;31mKeyboardInterrupt\u001b[0m: "
     ]
    }
   ],
   "source": [
    "## Import the ecoinvent 3.6\n",
    "\n",
    "ei36_path = r\"C:\\Users\\yqiu\\Box\\DAC LCA-IAM\\YQ_work\\Work\\WURST_code\\Ecoinvent\\ecoinvent 3.6_cut-off_ecoSpold02\\datasets\"\n",
    "ei_36 = SingleOutputEcospold2Importer(ei36_path, \"ecoinvent3.6\")\n",
    "ei_36.apply_strategies()\n",
    "ei_36.statistics()\n",
    "ei_36.write_database()"
   ]
  },
  {
   "cell_type": "code",
   "execution_count": null,
   "metadata": {},
   "outputs": [],
   "source": [
    "## Import the LCI data of wave electricity and link it into ecoinvent 3.6\n",
    "\n",
    "lci_wave_path = r'C:\\Users\\YQIU\\Box\\DAC LCA-IAM\\YQ_work\\Work\\WURST_code\\Ecoinvent\\lci_wave.xlsx'\n",
    "sp = ExcelImporter(lci_wave_path)\n",
    "sp.apply_strategies()  \n",
    "sp.match_database(fields=[\"name\", \"unit\", \"location\"])\n",
    "sp.match_database('ecoinvent3.6', fields=[\"reference product\", \"name\", \"unit\", \"location\"])\n",
    "sp.match_database('ecoinvent3.6', fields=[\"name\", \"unit\", \"location\"])\n",
    "sp.write_database()"
   ]
  },
  {
   "cell_type": "code",
   "execution_count": null,
   "metadata": {},
   "outputs": [],
   "source": [
    "## Import the LCI data of biomethane electricity and link it into ecoinvent 3.6\n",
    "\n",
    "lci_biomethane_heat_path = r'C:\\Users\\YQIU\\Box\\DAC LCA-IAM\\YQ_work\\Work\\WURST_code\\Ecoinvent\\lci_biomethane_heat.xlsx'\n",
    "sp = ExcelImporter(lci_biomethane_heat_path)\n",
    "sp.apply_strategies()  \n",
    "sp.match_database(fields=[\"name\", \"unit\", \"location\"])\n",
    "sp.match_database('ecoinvent3.6', fields=[\"reference product\", \"name\", \"unit\", \"location\"])\n",
    "sp.match_database('ecoinvent3.6', fields=[\"name\", \"unit\", \"location\"])\n",
    "sp.write_database()"
   ]
  },
  {
   "cell_type": "code",
   "execution_count": null,
   "metadata": {},
   "outputs": [],
   "source": [
    "## Import the LCI data of ccs technology and link it into ecoinvent 3.6\n",
    "\n",
    "lci_ccs_path = r'C:\\Users\\YQIU\\Box\\DAC LCA-IAM\\YQ_work\\Work\\WURST_code\\Ecoinvent\\lci_ccs.xlsx'\n",
    "\n",
    "sp = ExcelImporter(lci_ccs_path)\n",
    "sp.apply_strategies()  \n",
    "sp.match_database(fields=[\"name\", \"unit\", \"location\"])\n",
    "sp.match_database('ecoinvent3.6', fields=[\"reference product\", \"name\", \"unit\", \"location\"])\n",
    "sp.match_database('ecoinvent3.6', fields=[\"name\", \"unit\", \"location\"])\n",
    "sp.write_database()"
   ]
  },
  {
   "cell_type": "code",
   "execution_count": 40,
   "metadata": {
    "collapsed": true
   },
   "outputs": [
    {
     "name": "stdout",
     "output_type": "stream",
     "text": [
      "Extracted 1 worksheets in 1.08 seconds\n",
      "Applying strategy: csv_restore_tuples\n",
      "Applying strategy: csv_restore_booleans\n",
      "Applying strategy: csv_numerize\n",
      "Applying strategy: csv_drop_unknown\n",
      "Applying strategy: csv_add_missing_exchanges_section\n",
      "Applying strategy: normalize_units\n",
      "Applying strategy: normalize_biosphere_categories\n",
      "Applying strategy: normalize_biosphere_names\n",
      "Applying strategy: strip_biosphere_exc_locations\n",
      "Applying strategy: set_code_by_activity_hash\n",
      "Applying strategy: link_iterable_by_fields\n",
      "Applying strategy: assign_only_product_as_production\n",
      "Applying strategy: link_technosphere_by_activity_hash\n",
      "Applying strategy: drop_falsey_uncertainty_fields_but_keep_zeros\n",
      "Applying strategy: convert_uncertainty_types_to_integers\n",
      "Applying strategy: convert_activity_parameters_to_list\n",
      "Applied 16 strategies in 0.19 seconds\n",
      "Applying strategy: link_iterable_by_fields\n",
      "Applying strategy: link_iterable_by_fields\n",
      "Applying strategy: link_iterable_by_fields\n"
     ]
    },
    {
     "name": "stderr",
     "output_type": "stream",
     "text": [
      "Writing activities to SQLite3 database:\n",
      "0% [#] 100% | ETA: 00:00:01\n",
      "Total time elapsed: 00:00:00\n"
     ]
    },
    {
     "name": "stdout",
     "output_type": "stream",
     "text": [
      "Title: Writing activities to SQLite3 database:\n",
      "  Started: 03/20/2021 11:59:30\n",
      "  Finished: 03/20/2021 11:59:30\n",
      "  Total time elapsed: 00:00:00\n",
      "  CPU %: 104.20\n",
      "  Memory %: 24.10\n",
      "Created database: sorbent\n"
     ]
    }
   ],
   "source": [
    "## Import the LCI data of amine based sorbent and link it into ecoinvent 3.6\n",
    "\n",
    "lci_amine_based_sorbent_path = r'C:\\Users\\YQIU\\Box\\DAC LCA-IAM\\YQ_work\\Work\\WURST_code\\Ecoinvent\\lci_amine_based_sorbent.xlsx'\n",
    "\n",
    "sp = ExcelImporter(lci_amine_based_sorbent_path)\n",
    "sp.apply_strategies()  \n",
    "sp.match_database(fields=[\"name\", \"unit\", \"location\"])\n",
    "sp.match_database('ecoinvent3.6', fields=[\"reference product\", \"name\", \"unit\", \"location\"])\n",
    "sp.match_database('ecoinvent3.6', fields=[\"name\", \"unit\", \"location\"])\n",
    "sp.write_database()"
   ]
  },
  {
   "cell_type": "code",
   "execution_count": 6,
   "metadata": {
    "collapsed": true
   },
   "outputs": [
    {
     "name": "stdout",
     "output_type": "stream",
     "text": [
      "Getting activity data\n"
     ]
    },
    {
     "name": "stderr",
     "output_type": "stream",
     "text": [
      "100%|█████████████████████████████████████████████████████████████████████████| 18280/18280 [00:00<00:00, 52999.97it/s]\n"
     ]
    },
    {
     "name": "stdout",
     "output_type": "stream",
     "text": [
      "Adding exchange data to activities\n"
     ]
    },
    {
     "name": "stderr",
     "output_type": "stream",
     "text": [
      "100%|███████████████████████████████████████████████████████████████████████| 618899/618899 [00:33<00:00, 18511.52it/s]\n"
     ]
    },
    {
     "name": "stdout",
     "output_type": "stream",
     "text": [
      "Filling out exchange data\n"
     ]
    },
    {
     "name": "stderr",
     "output_type": "stream",
     "text": [
      "100%|██████████████████████████████████████████████████████████████████████████| 18280/18280 [00:02<00:00, 6118.62it/s]\n"
     ]
    }
   ],
   "source": [
    "## Get all imported new datasets and ecoinvent into Wurst format\n",
    "\n",
    "input_db = extract_brightway2_databases(['ecoinvent3.6', 'Carma CCS', 'Wave', 'geothermal', 'sorbent', 'Biomethane heat'])"
   ]
  },
  {
   "cell_type": "code",
   "execution_count": 7,
   "metadata": {},
   "outputs": [],
   "source": [
    "## Set the location for activities that does not have locations\n",
    "default_global_location(input_db)\n",
    "## Set the location (as GLO) for eschanges (technosphere and production) that does not have locations\n",
    "fix_unset_technosphere_and_production_exchange_locations(input_db)\n",
    "\n",
    "set_global_location_for_additional_datasets(input_db)\n",
    "remove_nones(input_db)"
   ]
  },
  {
   "cell_type": "code",
   "execution_count": 8,
   "metadata": {
    "collapsed": true
   },
   "outputs": [
    {
     "name": "stderr",
     "output_type": "stream",
     "text": [
      "0% [###########################] 100% | ETA: 00:00:00\n",
      "Total time elapsed: 00:00:00\n"
     ]
    }
   ],
   "source": [
    "## The excel sheet contained only global versions of each additional dataset. However, the IMAGE data that we are working \n",
    "## with is regionalized, so we can take advantage of this. We use Wurst's functionality to make regional copies of each new\n",
    "## dataset and relink all exchanges with regional ones, where available.\n",
    "\n",
    "add_new_locations_to_added_datasets(input_db)\n",
    "regionalize_added_datasets(input_db)"
   ]
  },
  {
   "cell_type": "markdown",
   "metadata": {},
   "source": [
    "## 2. Creating dictionaries for database modification"
   ]
  },
  {
   "cell_type": "code",
   "execution_count": 19,
   "metadata": {},
   "outputs": [],
   "source": [
    "## Here we set the scenarios and years for which we want to use when creating a new version of ecoinvent\n",
    "\n",
    "database_dict = collections.defaultdict(dict)\n",
    "\n",
    "database_dict['ecoinvent_2020_BAU'] = {'year' : 2020 , 'scenario' : 'SSP2'}\n",
    "database_dict['ecoinvent_2030_BAU'] = {'year' : 2030 , 'scenario' : 'SSP2'}\n",
    "database_dict['ecoinvent_2040_BAU'] = {'year' : 2040 , 'scenario' : 'SSP2'}\n",
    "database_dict['ecoinvent_2050_BAU'] = {'year' : 2050 , 'scenario' : 'SSP2'}\n",
    "database_dict['ecoinvent_2060_BAU'] = {'year' : 2060 , 'scenario' : 'SSP2'}\n",
    "database_dict['ecoinvent_2070_BAU'] = {'year' : 2070 , 'scenario' : 'SSP2'}\n",
    "database_dict['ecoinvent_2080_BAU'] = {'year' : 2080 , 'scenario' : 'SSP2'}\n",
    "database_dict['ecoinvent_2090_BAU'] = {'year' : 2090 , 'scenario' : 'SSP2'}\n",
    "database_dict['ecoinvent_2100_BAU'] = {'year' : 2100 , 'scenario' : 'SSP2'}\n",
    "\n",
    "\n",
    "## Here we make a copy of the database for each new version that is to be created\n",
    "for key in database_dict.keys():\n",
    "    database_dict[key]['db'] =  copy.deepcopy(input_db)"
   ]
  },
  {
   "cell_type": "code",
   "execution_count": 10,
   "metadata": {},
   "outputs": [],
   "source": [
    "database_dict_RCP19 = collections.defaultdict(dict)\n",
    "\n",
    "database_dict_RCP19['ecoinvent_2020_RCP19_2'] = {'year' : 2020 , 'scenario' : 'SSP2_RCP19'}\n",
    "database_dict_RCP19['ecoinvent_2030_RCP19_2'] = {'year' : 2030 , 'scenario' : 'SSP2_RCP19'}\n",
    "database_dict_RCP19['ecoinvent_2040_RCP19_2'] = {'year' : 2040 , 'scenario' : 'SSP2_RCP19'}\n",
    "database_dict_RCP19['ecoinvent_2050_RCP19_2'] = {'year' : 2050 , 'scenario' : 'SSP2_RCP19'}\n",
    "database_dict_RCP19['ecoinvent_2060_RCP19_2'] = {'year' : 2060 , 'scenario' : 'SSP2_RCP19'}\n",
    "database_dict_RCP19['ecoinvent_2070_RCP19_2'] = {'year' : 2070 , 'scenario' : 'SSP2_RCP19'}\n",
    "database_dict_RCP19['ecoinvent_2080_RCP19_2'] = {'year' : 2080 , 'scenario' : 'SSP2_RCP19'}\n",
    "database_dict_RCP19['ecoinvent_2090_RCP19_2'] = {'year' : 2090 , 'scenario' : 'SSP2_RCP19'}\n",
    "database_dict_RCP19['ecoinvent_2100_RCP19_2'] = {'year' : 2100 , 'scenario' : 'SSP2_RCP19'}\n",
    "\n",
    "for key in database_dict_RCP19.keys():\n",
    "    database_dict_RCP19[key]['db'] =  copy.deepcopy(input_db)"
   ]
  },
  {
   "cell_type": "code",
   "execution_count": 11,
   "metadata": {},
   "outputs": [],
   "source": [
    "database_dict_RCP19_DAC = collections.defaultdict(dict)\n",
    "\n",
    "database_dict_RCP19_DAC['ecoinvent_2020_RCP19_DAC_2'] = {'year' : 2020 , 'scenario' : 'SSP2_RCP19_DAC'}\n",
    "database_dict_RCP19_DAC['ecoinvent_2030_RCP19_DAC_2'] = {'year' : 2030 , 'scenario' : 'SSP2_RCP19_DAC'}\n",
    "database_dict_RCP19_DAC['ecoinvent_2040_RCP19_DAC_2'] = {'year' : 2040 , 'scenario' : 'SSP2_RCP19_DAC'}\n",
    "database_dict_RCP19_DAC['ecoinvent_2050_RCP19_DAC_2'] = {'year' : 2050 , 'scenario' : 'SSP2_RCP19_DAC'}\n",
    "database_dict_RCP19_DAC['ecoinvent_2060_RCP19_DAC_2'] = {'year' : 2060 , 'scenario' : 'SSP2_RCP19_DAC'}\n",
    "database_dict_RCP19_DAC['ecoinvent_2070_RCP19_DAC_2'] = {'year' : 2070 , 'scenario' : 'SSP2_RCP19_DAC'}\n",
    "database_dict_RCP19_DAC['ecoinvent_2080_RCP19_DAC_2'] = {'year' : 2080 , 'scenario' : 'SSP2_RCP19_DAC'}\n",
    "database_dict_RCP19_DAC['ecoinvent_2090_RCP19_DAC_2'] = {'year' : 2090 , 'scenario' : 'SSP2_RCP19_DAC'}\n",
    "database_dict_RCP19_DAC['ecoinvent_2100_RCP19_DAC_2'] = {'year' : 2100 , 'scenario' : 'SSP2_RCP19_DAC'}\n",
    "\n",
    "for key in database_dict_RCP19_DAC.keys():\n",
    "    database_dict_RCP19_DAC[key]['db'] =  copy.deepcopy(input_db)"
   ]
  },
  {
   "cell_type": "markdown",
   "metadata": {},
   "source": [
    "## 3. Modifying database and writing the new database into project"
   ]
  },
  {
   "cell_type": "code",
   "execution_count": 21,
   "metadata": {
    "collapsed": true
   },
   "outputs": [
    {
     "name": "stdout",
     "output_type": "stream",
     "text": [
      "ecoinvent_2020_BAU\n",
      "Changing electricity Markets\n",
      "Changing ecoinvent electricity generation datasets\n",
      "Changing  Coal_ST\n",
      "Changing  Coal_CHP\n",
      "Changing  Natural_gas_OC\n",
      "Changing  Natural_gas_CC\n",
      "Changing  Natural_gas_CHP\n",
      "Changing  Oil_ST\n",
      "Changing  Oil_CC\n",
      "Changing  Oil_CHP\n",
      "Changing  Biomass_ST\n",
      "Changing  Biomass_CHP\n",
      "Changing  Biomass_CC\n",
      "Changing  Nuclear\n",
      "Changing Carma electricity datasets\n",
      "Saving changes to excel\n",
      "ecoinvent_2030_BAU\n",
      "Changing electricity Markets\n",
      "Changing ecoinvent electricity generation datasets\n",
      "Changing  Coal_ST\n",
      "Changing  Coal_CHP\n",
      "Changing  Natural_gas_OC\n",
      "Changing  Natural_gas_CC\n",
      "Changing  Natural_gas_CHP\n",
      "Changing  Oil_ST\n",
      "Changing  Oil_CC\n",
      "Changing  Oil_CHP\n",
      "Changing  Biomass_ST\n",
      "Changing  Biomass_CHP\n",
      "Changing  Biomass_CC\n",
      "Changing  Nuclear\n",
      "Changing Carma electricity datasets\n",
      "Saving changes to excel\n"
     ]
    },
    {
     "name": "stderr",
     "output_type": "stream",
     "text": [
      "\r",
      "0% [#        ] 100% | ETA: 00:29:32"
     ]
    },
    {
     "name": "stdout",
     "output_type": "stream",
     "text": [
      "ecoinvent_2040_BAU\n",
      "Changing electricity Markets\n",
      "Changing ecoinvent electricity generation datasets\n",
      "Changing  Coal_ST\n",
      "Changing  Coal_CHP\n",
      "Changing  Natural_gas_OC\n",
      "Changing  Natural_gas_CC\n",
      "Changing  Natural_gas_CHP\n",
      "Changing  Oil_ST\n",
      "Changing  Oil_CC\n",
      "Changing  Oil_CHP\n",
      "Changing  Biomass_ST\n",
      "Changing  Biomass_CHP\n",
      "Changing  Biomass_CC\n",
      "Changing  Nuclear\n",
      "Changing Carma electricity datasets\n",
      "Saving changes to excel\n"
     ]
    },
    {
     "name": "stderr",
     "output_type": "stream",
     "text": [
      "\r",
      "0% [##       ] 100% | ETA: 00:25:50"
     ]
    },
    {
     "name": "stdout",
     "output_type": "stream",
     "text": [
      "ecoinvent_2050_BAU\n",
      "Changing electricity Markets\n",
      "Changing ecoinvent electricity generation datasets\n",
      "Changing  Coal_ST\n",
      "Changing  Coal_CHP\n",
      "Changing  Natural_gas_OC\n",
      "Changing  Natural_gas_CC\n",
      "Changing  Natural_gas_CHP\n",
      "Changing  Oil_ST\n",
      "Changing  Oil_CC\n",
      "Changing  Oil_CHP\n",
      "Changing  Biomass_ST\n",
      "Changing  Biomass_CHP\n",
      "Changing  Biomass_CC\n",
      "Changing  Nuclear\n",
      "Changing Carma electricity datasets\n",
      "Saving changes to excel\n"
     ]
    },
    {
     "name": "stderr",
     "output_type": "stream",
     "text": [
      "\r",
      "0% [###      ] 100% | ETA: 00:21:37"
     ]
    },
    {
     "name": "stdout",
     "output_type": "stream",
     "text": [
      "ecoinvent_2060_BAU\n",
      "Changing electricity Markets\n",
      "Changing ecoinvent electricity generation datasets\n",
      "Changing  Coal_ST\n",
      "Changing  Coal_CHP\n",
      "Changing  Natural_gas_OC\n",
      "Changing  Natural_gas_CC\n",
      "Changing  Natural_gas_CHP\n",
      "Changing  Oil_ST\n",
      "Changing  Oil_CC\n",
      "Changing  Oil_CHP\n",
      "Changing  Biomass_ST\n",
      "Changing  Biomass_CHP\n",
      "Changing  Biomass_CC\n",
      "Changing  Nuclear\n",
      "Changing Carma electricity datasets\n",
      "Saving changes to excel\n"
     ]
    },
    {
     "name": "stderr",
     "output_type": "stream",
     "text": [
      "\r",
      "0% [#####    ] 100% | ETA: 00:17:18"
     ]
    },
    {
     "name": "stdout",
     "output_type": "stream",
     "text": [
      "ecoinvent_2070_BAU\n",
      "Changing electricity Markets\n",
      "Changing ecoinvent electricity generation datasets\n",
      "Changing  Coal_ST\n",
      "Changing  Coal_CHP\n",
      "Changing  Natural_gas_OC\n",
      "Changing  Natural_gas_CC\n",
      "Changing  Natural_gas_CHP\n",
      "Changing  Oil_ST\n",
      "Changing  Oil_CC\n",
      "Changing  Oil_CHP\n",
      "Changing  Biomass_ST\n",
      "Changing  Biomass_CHP\n",
      "Changing  Biomass_CC\n",
      "Changing  Nuclear\n",
      "Changing Carma electricity datasets\n",
      "Saving changes to excel\n"
     ]
    },
    {
     "name": "stderr",
     "output_type": "stream",
     "text": [
      "\r",
      "0% [######   ] 100% | ETA: 00:12:59"
     ]
    },
    {
     "name": "stdout",
     "output_type": "stream",
     "text": [
      "ecoinvent_2080_BAU\n",
      "Changing electricity Markets\n",
      "Changing ecoinvent electricity generation datasets\n",
      "Changing  Coal_ST\n",
      "Changing  Coal_CHP\n",
      "Changing  Natural_gas_OC\n",
      "Changing  Natural_gas_CC\n",
      "Changing  Natural_gas_CHP\n",
      "Changing  Oil_ST\n",
      "Changing  Oil_CC\n",
      "Changing  Oil_CHP\n",
      "Changing  Biomass_ST\n",
      "Changing  Biomass_CHP\n",
      "Changing  Biomass_CC\n",
      "Changing  Nuclear\n",
      "Changing Carma electricity datasets\n",
      "Saving changes to excel\n"
     ]
    },
    {
     "name": "stderr",
     "output_type": "stream",
     "text": [
      "\r",
      "0% [#######  ] 100% | ETA: 00:08:42"
     ]
    },
    {
     "name": "stdout",
     "output_type": "stream",
     "text": [
      "ecoinvent_2090_BAU\n",
      "Changing electricity Markets\n",
      "Changing ecoinvent electricity generation datasets\n",
      "Changing  Coal_ST\n",
      "Changing  Coal_CHP\n",
      "Changing  Natural_gas_OC\n",
      "Changing  Natural_gas_CC\n",
      "Changing  Natural_gas_CHP\n",
      "Changing  Oil_ST\n",
      "Changing  Oil_CC\n",
      "Changing  Oil_CHP\n",
      "Changing  Biomass_ST\n",
      "Changing  Biomass_CHP\n",
      "Changing  Biomass_CC\n",
      "Changing  Nuclear\n",
      "Changing Carma electricity datasets\n",
      "Saving changes to excel\n"
     ]
    },
    {
     "name": "stderr",
     "output_type": "stream",
     "text": [
      "\r",
      "0% [######## ] 100% | ETA: 00:04:23"
     ]
    },
    {
     "name": "stdout",
     "output_type": "stream",
     "text": [
      "ecoinvent_2100_BAU\n",
      "Changing electricity Markets\n",
      "Changing ecoinvent electricity generation datasets\n",
      "Changing  Coal_ST\n",
      "Changing  Coal_CHP\n",
      "Changing  Natural_gas_OC\n",
      "Changing  Natural_gas_CC\n",
      "Changing  Natural_gas_CHP\n",
      "Changing  Oil_ST\n",
      "Changing  Oil_CC\n",
      "Changing  Oil_CHP\n",
      "Changing  Biomass_ST\n",
      "Changing  Biomass_CHP\n",
      "Changing  Biomass_CC\n",
      "Changing  Nuclear\n",
      "Changing Carma electricity datasets\n",
      "Saving changes to excel\n"
     ]
    },
    {
     "name": "stderr",
     "output_type": "stream",
     "text": [
      "0% [#########] 100% | ETA: 00:00:00\n",
      "Total time elapsed: 00:39:49\n"
     ]
    }
   ],
   "source": [
    "## This cell uses the Wurst functionality as well as the functions that we wrote in the notebook \n",
    "## \"1_Functions_Market_electricity_data.ipynb\" to make the changes to ecoinvent (using IMAGE baseline scenario)\n",
    "\n",
    "\n",
    "for key in pyprind.prog_bar(database_dict.keys()):\n",
    "    db = database_dict[key]['db']\n",
    "    year = database_dict[key]['year']\n",
    "    scenario = database_dict[key]['scenario']\n",
    "    print(key)\n",
    "    # Electricity markets:\n",
    "    print('Changing electricity Markets')\n",
    "    market_changes = update_electricity_markets(db, year, scenario)\n",
    "    \n",
    "    # Electricity generation datasets:\n",
    "    print('Changing ecoinvent electricity generation datasets')\n",
    "    technology_changes = update_electricity_datasets_with_image_data(db, year, scenario, agg_func=np.average, update_efficiency = True, update_emissions = True)\n",
    "    \n",
    "    # Added electricity generation datasets (from project Carma)\n",
    "    print('Changing Carma electricity datasets')\n",
    "    modify_all_carma_electricity_datasets(db, year, scenario)\n",
    "    \n",
    "    print('Saving changes to excel')\n",
    "    tech_df = pd.DataFrame.from_dict(technology_changes)\n",
    "    tech_df.index = pd.MultiIndex.from_tuples(tech_df.index)\n",
    "    tech_df = tech_df.T\n",
    "    tech_df = tech_df.set_index([('meta data','Image technology'),('meta data','name'),('meta data','location')], drop=True).sort_index()\n",
    "    market_df = pd.DataFrame.from_dict(market_changes).T\n",
    "    market_df = market_df.set_index([('meta data','name'),('meta data','location')], drop=True).sort_index().T\n",
    "\n",
    "    writer = pd.ExcelWriter('electricity changes '+ str(year) + ' '+ scenario + '.xlsx')\n",
    "    market_df.to_excel(writer, sheet_name = 'markets')\n",
    "    for tech in tech_df.index.levels[0]:\n",
    "        tech_df.loc[tech].dropna(how='all', axis=1).swaplevel(i=0,j=1, axis=1).T.to_excel(writer, sheet_name = tech)\n",
    "    writer.save()\n",
    "    \n",
    "    #rename_locations(db, fix_names_back)"
   ]
  },
  {
   "cell_type": "code",
   "execution_count": 22,
   "metadata": {
    "collapsed": true
   },
   "outputs": [
    {
     "name": "stdout",
     "output_type": "stream",
     "text": [
      "18982 datasets\n",
      "700422 exchanges\n",
      "0 unlinked exchanges\n",
      "  \n"
     ]
    },
    {
     "name": "stderr",
     "output_type": "stream",
     "text": [
      "Writing activities to SQLite3 database:\n",
      "0% [##############################] 100% | ETA: 00:00:00\n",
      "Total time elapsed: 00:01:29\n"
     ]
    },
    {
     "name": "stdout",
     "output_type": "stream",
     "text": [
      "Title: Writing activities to SQLite3 database:\n",
      "  Started: 06/25/2021 16:01:26\n",
      "  Finished: 06/25/2021 16:02:56\n",
      "  Total time elapsed: 00:01:29\n",
      "  CPU %: 72.20\n",
      "  Memory %: 40.81\n",
      "Created database: ecoinvent_2020_BAU\n",
      "18982 datasets\n",
      "710203 exchanges\n",
      "0 unlinked exchanges\n",
      "  \n"
     ]
    },
    {
     "name": "stderr",
     "output_type": "stream",
     "text": [
      "Writing activities to SQLite3 database:\n",
      "0% [##############################] 100% | ETA: 00:00:00\n",
      "Total time elapsed: 00:01:29\n"
     ]
    },
    {
     "name": "stdout",
     "output_type": "stream",
     "text": [
      "Title: Writing activities to SQLite3 database:\n",
      "  Started: 06/25/2021 16:04:35\n",
      "  Finished: 06/25/2021 16:06:05\n",
      "  Total time elapsed: 00:01:29\n",
      "  CPU %: 73.50\n",
      "  Memory %: 41.21\n",
      "Created database: ecoinvent_2030_BAU\n",
      "18982 datasets\n",
      "710870 exchanges\n",
      "0 unlinked exchanges\n",
      "  \n"
     ]
    },
    {
     "name": "stderr",
     "output_type": "stream",
     "text": [
      "Writing activities to SQLite3 database:\n",
      "0% [##############################] 100% | ETA: 00:00:00\n",
      "Total time elapsed: 00:01:44\n"
     ]
    },
    {
     "name": "stdout",
     "output_type": "stream",
     "text": [
      "Title: Writing activities to SQLite3 database:\n",
      "  Started: 06/25/2021 16:08:00\n",
      "  Finished: 06/25/2021 16:09:44\n",
      "  Total time elapsed: 00:01:44\n",
      "  CPU %: 57.00\n",
      "  Memory %: 41.56\n",
      "Created database: ecoinvent_2040_BAU\n",
      "18982 datasets\n",
      "712299 exchanges\n",
      "0 unlinked exchanges\n",
      "  \n"
     ]
    },
    {
     "name": "stderr",
     "output_type": "stream",
     "text": [
      "Writing activities to SQLite3 database:\n",
      "0% [##############################] 100% | ETA: 00:00:00\n",
      "Total time elapsed: 00:01:27\n"
     ]
    },
    {
     "name": "stdout",
     "output_type": "stream",
     "text": [
      "Title: Writing activities to SQLite3 database:\n",
      "  Started: 06/25/2021 16:11:48\n",
      "  Finished: 06/25/2021 16:13:16\n",
      "  Total time elapsed: 00:01:27\n",
      "  CPU %: 69.40\n",
      "  Memory %: 39.24\n",
      "Created database: ecoinvent_2050_BAU\n",
      "18982 datasets\n",
      "711369 exchanges\n",
      "0 unlinked exchanges\n",
      "  \n"
     ]
    },
    {
     "name": "stderr",
     "output_type": "stream",
     "text": [
      "Writing activities to SQLite3 database:\n",
      "0% [##############################] 100% | ETA: 00:00:00\n",
      "Total time elapsed: 00:01:31\n"
     ]
    },
    {
     "name": "stdout",
     "output_type": "stream",
     "text": [
      "Title: Writing activities to SQLite3 database:\n",
      "  Started: 06/25/2021 16:15:26\n",
      "  Finished: 06/25/2021 16:16:58\n",
      "  Total time elapsed: 00:01:31\n",
      "  CPU %: 73.10\n",
      "  Memory %: 38.75\n",
      "Created database: ecoinvent_2060_BAU\n",
      "18982 datasets\n",
      "708331 exchanges\n",
      "0 unlinked exchanges\n",
      "  \n"
     ]
    },
    {
     "name": "stderr",
     "output_type": "stream",
     "text": [
      "Writing activities to SQLite3 database:\n",
      "0% [##############################] 100% | ETA: 00:00:00\n",
      "Total time elapsed: 00:01:32\n"
     ]
    },
    {
     "name": "stdout",
     "output_type": "stream",
     "text": [
      "Title: Writing activities to SQLite3 database:\n",
      "  Started: 06/25/2021 16:19:32\n",
      "  Finished: 06/25/2021 16:21:05\n",
      "  Total time elapsed: 00:01:32\n",
      "  CPU %: 72.00\n",
      "  Memory %: 39.74\n",
      "Created database: ecoinvent_2070_BAU\n",
      "18982 datasets\n",
      "712075 exchanges\n",
      "0 unlinked exchanges\n",
      "  \n"
     ]
    },
    {
     "name": "stderr",
     "output_type": "stream",
     "text": [
      "Writing activities to SQLite3 database:\n",
      "0% [##############################] 100% | ETA: 00:00:00\n",
      "Total time elapsed: 00:01:35\n"
     ]
    },
    {
     "name": "stdout",
     "output_type": "stream",
     "text": [
      "Title: Writing activities to SQLite3 database:\n",
      "  Started: 06/25/2021 16:24:01\n",
      "  Finished: 06/25/2021 16:25:36\n",
      "  Total time elapsed: 00:01:35\n",
      "  CPU %: 67.10\n",
      "  Memory %: 40.85\n",
      "Created database: ecoinvent_2080_BAU\n",
      "18982 datasets\n",
      "713773 exchanges\n",
      "0 unlinked exchanges\n",
      "  \n"
     ]
    },
    {
     "name": "stderr",
     "output_type": "stream",
     "text": [
      "Writing activities to SQLite3 database:\n",
      "0% [##############################] 100% | ETA: 00:00:00\n",
      "Total time elapsed: 00:01:33\n"
     ]
    },
    {
     "name": "stdout",
     "output_type": "stream",
     "text": [
      "Title: Writing activities to SQLite3 database:\n",
      "  Started: 06/25/2021 16:29:17\n",
      "  Finished: 06/25/2021 16:30:51\n",
      "  Total time elapsed: 00:01:33\n",
      "  CPU %: 70.10\n",
      "  Memory %: 41.94\n",
      "Created database: ecoinvent_2090_BAU\n",
      "18982 datasets\n",
      "715945 exchanges\n",
      "0 unlinked exchanges\n",
      "  \n"
     ]
    },
    {
     "name": "stderr",
     "output_type": "stream",
     "text": [
      "Writing activities to SQLite3 database:\n",
      "0% [##############################] 100% | ETA: 00:00:00\n",
      "Total time elapsed: 00:01:36\n"
     ]
    },
    {
     "name": "stdout",
     "output_type": "stream",
     "text": [
      "Title: Writing activities to SQLite3 database:\n",
      "  Started: 06/25/2021 16:35:42\n",
      "  Finished: 06/25/2021 16:37:18\n",
      "  Total time elapsed: 00:01:36\n",
      "  CPU %: 70.80\n",
      "  Memory %: 43.03\n",
      "Created database: ecoinvent_2100_BAU\n"
     ]
    }
   ],
   "source": [
    "# Write results to database\n",
    "\n",
    "for key in database_dict.keys():\n",
    "    db = database_dict[key]['db']\n",
    "    #rename_locations(db, fix_names)\n",
    "    write_brightway2_database(db, key)"
   ]
  },
  {
   "cell_type": "code",
   "execution_count": 12,
   "metadata": {
    "collapsed": true
   },
   "outputs": [
    {
     "name": "stdout",
     "output_type": "stream",
     "text": [
      "ecoinvent_2020_RCP19_2\n",
      "Changing electricity Markets\n",
      "Changing ecoinvent electricity generation datasets\n",
      "Changing  Coal_ST\n",
      "Changing  Coal_CHP\n",
      "Changing  Natural_gas_OC\n",
      "Changing  Natural_gas_CC\n",
      "Changing  Natural_gas_CHP\n",
      "Changing  Oil_ST\n",
      "Changing  Oil_CC\n",
      "Changing  Oil_CHP\n",
      "Changing  Biomass_ST\n",
      "Changing  Biomass_CHP\n",
      "Changing  Biomass_CC\n",
      "Changing  Nuclear\n",
      "Changing Carma electricity datasets\n",
      "Saving changes to excel\n",
      "ecoinvent_2030_RCP19_2\n",
      "Changing electricity Markets\n",
      "Changing ecoinvent electricity generation datasets\n",
      "Changing  Coal_ST\n",
      "Changing  Coal_CHP\n",
      "Changing  Natural_gas_OC\n",
      "Changing  Natural_gas_CC\n",
      "Changing  Natural_gas_CHP\n",
      "Changing  Oil_ST\n",
      "Changing  Oil_CC\n",
      "Changing  Oil_CHP\n",
      "Changing  Biomass_ST\n",
      "Changing  Biomass_CHP\n",
      "Changing  Biomass_CC\n",
      "Changing  Nuclear\n",
      "Changing Carma electricity datasets\n",
      "Saving changes to excel\n"
     ]
    },
    {
     "name": "stderr",
     "output_type": "stream",
     "text": [
      "\r",
      "0% [#        ] 100% | ETA: 00:33:09"
     ]
    },
    {
     "name": "stdout",
     "output_type": "stream",
     "text": [
      "ecoinvent_2040_RCP19_2\n",
      "Changing electricity Markets\n",
      "Changing ecoinvent electricity generation datasets\n",
      "Changing  Coal_ST\n",
      "Changing  Coal_CHP\n",
      "Changing  Natural_gas_OC\n",
      "Changing  Natural_gas_CC\n",
      "Changing  Natural_gas_CHP\n",
      "Changing  Oil_ST\n",
      "Changing  Oil_CC\n",
      "Changing  Oil_CHP\n",
      "Changing  Biomass_ST\n",
      "Changing  Biomass_CHP\n",
      "Changing  Biomass_CC\n",
      "Changing  Nuclear\n",
      "Changing Carma electricity datasets\n",
      "Saving changes to excel\n"
     ]
    },
    {
     "name": "stderr",
     "output_type": "stream",
     "text": [
      "\r",
      "0% [##       ] 100% | ETA: 00:30:21"
     ]
    },
    {
     "name": "stdout",
     "output_type": "stream",
     "text": [
      "ecoinvent_2050_RCP19_2\n",
      "Changing electricity Markets\n",
      "Changing ecoinvent electricity generation datasets\n",
      "Changing  Coal_ST\n",
      "Changing  Coal_CHP\n",
      "Changing  Natural_gas_OC\n",
      "Changing  Natural_gas_CC\n",
      "Changing  Natural_gas_CHP\n",
      "Changing  Oil_ST\n",
      "Changing  Oil_CC\n",
      "Changing  Oil_CHP\n",
      "Changing  Biomass_ST\n",
      "Changing  Biomass_CHP\n",
      "Changing  Biomass_CC\n",
      "Changing  Nuclear\n",
      "Changing Carma electricity datasets\n",
      "Saving changes to excel\n"
     ]
    },
    {
     "name": "stderr",
     "output_type": "stream",
     "text": [
      "\r",
      "0% [###      ] 100% | ETA: 00:26:18"
     ]
    },
    {
     "name": "stdout",
     "output_type": "stream",
     "text": [
      "ecoinvent_2060_RCP19_2\n",
      "Changing electricity Markets\n",
      "Changing ecoinvent electricity generation datasets\n",
      "Changing  Coal_ST\n",
      "Changing  Coal_CHP\n",
      "Changing  Natural_gas_OC\n",
      "Changing  Natural_gas_CC\n",
      "Changing  Natural_gas_CHP\n",
      "Changing  Oil_ST\n",
      "Changing  Oil_CC\n",
      "Changing  Oil_CHP\n",
      "Changing  Biomass_ST\n",
      "Changing  Biomass_CHP\n",
      "Changing  Biomass_CC\n",
      "Changing  Nuclear\n",
      "Changing Carma electricity datasets\n",
      "Saving changes to excel\n"
     ]
    },
    {
     "name": "stderr",
     "output_type": "stream",
     "text": [
      "\r",
      "0% [#####    ] 100% | ETA: 00:21:37"
     ]
    },
    {
     "name": "stdout",
     "output_type": "stream",
     "text": [
      "ecoinvent_2070_RCP19_2\n",
      "Changing electricity Markets\n",
      "Changing ecoinvent electricity generation datasets\n",
      "Changing  Coal_ST\n",
      "Changing  Coal_CHP\n",
      "Changing  Natural_gas_OC\n",
      "Changing  Natural_gas_CC\n",
      "Changing  Natural_gas_CHP\n",
      "Changing  Oil_ST\n",
      "Changing  Oil_CC\n",
      "Changing  Oil_CHP\n",
      "Changing  Biomass_ST\n",
      "Changing  Biomass_CHP\n",
      "Changing  Biomass_CC\n",
      "Changing  Nuclear\n",
      "Changing Carma electricity datasets\n",
      "Saving changes to excel\n"
     ]
    },
    {
     "name": "stderr",
     "output_type": "stream",
     "text": [
      "\r",
      "0% [######   ] 100% | ETA: 00:16:21"
     ]
    },
    {
     "name": "stdout",
     "output_type": "stream",
     "text": [
      "ecoinvent_2080_RCP19_2\n",
      "Changing electricity Markets\n",
      "Changing ecoinvent electricity generation datasets\n",
      "Changing  Coal_ST\n",
      "Changing  Coal_CHP\n",
      "Changing  Natural_gas_OC\n",
      "Changing  Natural_gas_CC\n",
      "Changing  Natural_gas_CHP\n",
      "Changing  Oil_ST\n",
      "Changing  Oil_CC\n",
      "Changing  Oil_CHP\n",
      "Changing  Biomass_ST\n",
      "Changing  Biomass_CHP\n",
      "Changing  Biomass_CC\n",
      "Changing  Nuclear\n",
      "Changing Carma electricity datasets\n",
      "Saving changes to excel\n"
     ]
    },
    {
     "name": "stderr",
     "output_type": "stream",
     "text": [
      "\r",
      "0% [#######  ] 100% | ETA: 00:10:57"
     ]
    },
    {
     "name": "stdout",
     "output_type": "stream",
     "text": [
      "ecoinvent_2090_RCP19_2\n",
      "Changing electricity Markets\n",
      "Changing ecoinvent electricity generation datasets\n",
      "Changing  Coal_ST\n",
      "Changing  Coal_CHP\n",
      "Changing  Natural_gas_OC\n",
      "Changing  Natural_gas_CC\n",
      "Changing  Natural_gas_CHP\n",
      "Changing  Oil_ST\n",
      "Changing  Oil_CC\n",
      "Changing  Oil_CHP\n",
      "Changing  Biomass_ST\n",
      "Changing  Biomass_CHP\n",
      "Changing  Biomass_CC\n",
      "Changing  Nuclear\n",
      "Changing Carma electricity datasets\n",
      "Saving changes to excel\n"
     ]
    },
    {
     "name": "stderr",
     "output_type": "stream",
     "text": [
      "\r",
      "0% [######## ] 100% | ETA: 00:05:30"
     ]
    },
    {
     "name": "stdout",
     "output_type": "stream",
     "text": [
      "ecoinvent_2100_RCP19_2\n",
      "Changing electricity Markets\n",
      "Changing ecoinvent electricity generation datasets\n",
      "Changing  Coal_ST\n",
      "Changing  Coal_CHP\n",
      "Changing  Natural_gas_OC\n",
      "Changing  Natural_gas_CC\n",
      "Changing  Natural_gas_CHP\n",
      "Changing  Oil_ST\n",
      "Changing  Oil_CC\n",
      "Changing  Oil_CHP\n",
      "Changing  Biomass_ST\n",
      "Changing  Biomass_CHP\n",
      "Changing  Biomass_CC\n",
      "Changing  Nuclear\n",
      "Changing Carma electricity datasets\n",
      "Saving changes to excel\n"
     ]
    },
    {
     "name": "stderr",
     "output_type": "stream",
     "text": [
      "0% [#########] 100% | ETA: 00:00:00\n",
      "Total time elapsed: 00:49:43\n"
     ]
    }
   ],
   "source": [
    "## Update the ecoinvent database using IMAGE RCP 1.9 scenario\n",
    "\n",
    "for key in pyprind.prog_bar(database_dict_RCP19.keys()):\n",
    "    db = database_dict_RCP19[key]['db']\n",
    "    year = database_dict_RCP19[key]['year']\n",
    "    scenario = database_dict_RCP19[key]['scenario']\n",
    "    print(key)\n",
    "    # Electricity markets:\n",
    "    print('Changing electricity Markets')\n",
    "    market_changes = update_electricity_markets(db, year, scenario)\n",
    "    \n",
    "    # Electricity generation datasets:\n",
    "    print('Changing ecoinvent electricity generation datasets')\n",
    "    technology_changes = update_electricity_datasets_with_image_data(db, year, scenario, agg_func=np.average, update_efficiency = True, update_emissions = True)\n",
    "    \n",
    "    # Added electricity generation datasets (from project Carma)\n",
    "    print('Changing Carma electricity datasets')\n",
    "    modify_all_carma_electricity_datasets(db, year, scenario)\n",
    "    \n",
    "    print('Saving changes to excel')\n",
    "    tech_df = pd.DataFrame.from_dict(technology_changes)\n",
    "    tech_df.index = pd.MultiIndex.from_tuples(tech_df.index)\n",
    "    tech_df = tech_df.T\n",
    "    tech_df = tech_df.set_index([('meta data','Image technology'),('meta data','name'),('meta data','location')], drop=True).sort_index()\n",
    "    market_df = pd.DataFrame.from_dict(market_changes).T\n",
    "    market_df = market_df.set_index([('meta data','name'),('meta data','location')], drop=True).sort_index().T\n",
    "\n",
    "    writer = pd.ExcelWriter('electricity changes '+ str(year) + ' '+ scenario + '.xlsx')\n",
    "    market_df.to_excel(writer, sheet_name = 'markets')\n",
    "    for tech in tech_df.index.levels[0]:\n",
    "        tech_df.loc[tech].dropna(how='all', axis=1).swaplevel(i=0,j=1, axis=1).T.to_excel(writer, sheet_name = tech)\n",
    "    writer.save()\n",
    "    \n",
    "    #rename_locations(db, fix_names_back)"
   ]
  },
  {
   "cell_type": "code",
   "execution_count": 13,
   "metadata": {
    "collapsed": true
   },
   "outputs": [
    {
     "name": "stdout",
     "output_type": "stream",
     "text": [
      "18982 datasets\n",
      "700422 exchanges\n",
      "0 unlinked exchanges\n",
      "  \n"
     ]
    },
    {
     "name": "stderr",
     "output_type": "stream",
     "text": [
      "Writing activities to SQLite3 database:\n",
      "0% [##############################] 100% | ETA: 00:00:00\n",
      "Total time elapsed: 00:02:34\n"
     ]
    },
    {
     "name": "stdout",
     "output_type": "stream",
     "text": [
      "Title: Writing activities to SQLite3 database:\n",
      "  Started: 07/05/2021 01:56:22\n",
      "  Finished: 07/05/2021 01:58:57\n",
      "  Total time elapsed: 00:02:34\n",
      "  CPU %: 48.40\n",
      "  Memory %: 48.36\n",
      "Created database: ecoinvent_2020_RCP19_2\n",
      "18982 datasets\n",
      "713700 exchanges\n",
      "0 unlinked exchanges\n",
      "  \n"
     ]
    },
    {
     "name": "stderr",
     "output_type": "stream",
     "text": [
      "Writing activities to SQLite3 database:\n",
      "0% [##############################] 100% | ETA: 00:00:00\n",
      "Total time elapsed: 00:02:23\n"
     ]
    },
    {
     "name": "stdout",
     "output_type": "stream",
     "text": [
      "Title: Writing activities to SQLite3 database:\n",
      "  Started: 07/05/2021 02:19:59\n",
      "  Finished: 07/05/2021 02:22:22\n",
      "  Total time elapsed: 00:02:23\n",
      "  CPU %: 48.80\n",
      "  Memory %: 48.45\n",
      "Created database: ecoinvent_2030_RCP19_2\n",
      "18982 datasets\n",
      "716374 exchanges\n",
      "0 unlinked exchanges\n",
      "  \n"
     ]
    },
    {
     "name": "stderr",
     "output_type": "stream",
     "text": [
      "Writing activities to SQLite3 database:\n",
      "0% [##############################] 100% | ETA: 00:00:00\n",
      "Total time elapsed: 00:04:58\n"
     ]
    },
    {
     "name": "stdout",
     "output_type": "stream",
     "text": [
      "Title: Writing activities to SQLite3 database:\n",
      "  Started: 07/05/2021 02:43:23\n",
      "  Finished: 07/05/2021 02:48:21\n",
      "  Total time elapsed: 00:04:58\n",
      "  CPU %: 49.10\n",
      "  Memory %: 50.24\n",
      "Created database: ecoinvent_2040_RCP19_2\n",
      "18982 datasets\n",
      "714159 exchanges\n",
      "0 unlinked exchanges\n",
      "  \n"
     ]
    },
    {
     "name": "stderr",
     "output_type": "stream",
     "text": [
      "Writing activities to SQLite3 database:\n",
      "0% [##############################] 100% | ETA: 00:00:00\n",
      "Total time elapsed: 00:05:32\n"
     ]
    },
    {
     "name": "stdout",
     "output_type": "stream",
     "text": [
      "Title: Writing activities to SQLite3 database:\n",
      "  Started: 07/05/2021 03:12:05\n",
      "  Finished: 07/05/2021 03:17:37\n",
      "  Total time elapsed: 00:05:32\n",
      "  CPU %: 47.40\n",
      "  Memory %: 49.28\n",
      "Created database: ecoinvent_2050_RCP19_2\n",
      "18982 datasets\n",
      "719298 exchanges\n",
      "0 unlinked exchanges\n",
      "  \n"
     ]
    },
    {
     "name": "stderr",
     "output_type": "stream",
     "text": [
      "Writing activities to SQLite3 database:\n",
      "0% [##############################] 100% | ETA: 00:00:00\n",
      "Total time elapsed: 00:04:59\n"
     ]
    },
    {
     "name": "stdout",
     "output_type": "stream",
     "text": [
      "Title: Writing activities to SQLite3 database:\n",
      "  Started: 07/05/2021 03:39:32\n",
      "  Finished: 07/05/2021 03:44:31\n",
      "  Total time elapsed: 00:04:59\n",
      "  CPU %: 48.50\n",
      "  Memory %: 51.22\n",
      "Created database: ecoinvent_2060_RCP19_2\n",
      "18982 datasets\n",
      "712859 exchanges\n",
      "0 unlinked exchanges\n",
      "  \n"
     ]
    },
    {
     "name": "stderr",
     "output_type": "stream",
     "text": [
      "Writing activities to SQLite3 database:\n",
      "0% [##############################] 100% | ETA: 00:00:00\n",
      "Total time elapsed: 00:05:33\n"
     ]
    },
    {
     "name": "stdout",
     "output_type": "stream",
     "text": [
      "Title: Writing activities to SQLite3 database:\n",
      "  Started: 07/05/2021 04:07:12\n",
      "  Finished: 07/05/2021 04:12:45\n",
      "  Total time elapsed: 00:05:33\n",
      "  CPU %: 43.70\n",
      "  Memory %: 50.70\n",
      "Created database: ecoinvent_2070_RCP19_2\n",
      "18982 datasets\n",
      "712894 exchanges\n",
      "0 unlinked exchanges\n",
      "  \n"
     ]
    },
    {
     "name": "stderr",
     "output_type": "stream",
     "text": [
      "Writing activities to SQLite3 database:\n",
      "0% [##############################] 100% | ETA: 00:00:00\n",
      "Total time elapsed: 00:05:06\n"
     ]
    },
    {
     "name": "stdout",
     "output_type": "stream",
     "text": [
      "Title: Writing activities to SQLite3 database:\n",
      "  Started: 07/05/2021 04:35:52\n",
      "  Finished: 07/05/2021 04:40:58\n",
      "  Total time elapsed: 00:05:06\n",
      "  CPU %: 43.30\n",
      "  Memory %: 52.32\n",
      "Created database: ecoinvent_2080_RCP19_2\n",
      "18982 datasets\n",
      "711650 exchanges\n",
      "0 unlinked exchanges\n",
      "  \n"
     ]
    },
    {
     "name": "stderr",
     "output_type": "stream",
     "text": [
      "Writing activities to SQLite3 database:\n",
      "0% [##############################] 100% | ETA: 00:00:00\n",
      "Total time elapsed: 00:05:41\n"
     ]
    },
    {
     "name": "stdout",
     "output_type": "stream",
     "text": [
      "Title: Writing activities to SQLite3 database:\n",
      "  Started: 07/05/2021 05:06:00\n",
      "  Finished: 07/05/2021 05:11:41\n",
      "  Total time elapsed: 00:05:41\n",
      "  CPU %: 41.30\n",
      "  Memory %: 52.38\n",
      "Created database: ecoinvent_2090_RCP19_2\n",
      "18982 datasets\n",
      "712656 exchanges\n",
      "0 unlinked exchanges\n",
      "  \n"
     ]
    },
    {
     "name": "stderr",
     "output_type": "stream",
     "text": [
      "Writing activities to SQLite3 database:\n",
      "0% [##############################] 100% | ETA: 00:00:00\n",
      "Total time elapsed: 00:05:48\n"
     ]
    },
    {
     "name": "stdout",
     "output_type": "stream",
     "text": [
      "Title: Writing activities to SQLite3 database:\n",
      "  Started: 07/05/2021 05:35:47\n",
      "  Finished: 07/05/2021 05:41:36\n",
      "  Total time elapsed: 00:05:48\n",
      "  CPU %: 40.90\n",
      "  Memory %: 52.28\n",
      "Created database: ecoinvent_2100_RCP19_2\n"
     ]
    }
   ],
   "source": [
    "## for loop function to write databases\n",
    "\n",
    "for key in database_dict_RCP19.keys():\n",
    "    db = database_dict_RCP19[key]['db']\n",
    "    #rename_locations(db, fix_names)\n",
    "    write_brightway2_database(db, key)"
   ]
  },
  {
   "cell_type": "code",
   "execution_count": 14,
   "metadata": {
    "collapsed": true
   },
   "outputs": [
    {
     "name": "stdout",
     "output_type": "stream",
     "text": [
      "ecoinvent_2020_RCP19_DAC_2\n",
      "Changing electricity Markets\n",
      "Changing ecoinvent electricity generation datasets\n",
      "Changing  Coal_ST\n",
      "Changing  Coal_CHP\n",
      "Changing  Natural_gas_OC\n",
      "Changing  Natural_gas_CC\n",
      "Changing  Natural_gas_CHP\n",
      "Changing  Oil_ST\n",
      "Changing  Oil_CC\n",
      "Changing  Oil_CHP\n",
      "Changing  Biomass_ST\n",
      "Changing  Biomass_CHP\n",
      "Changing  Biomass_CC\n",
      "Changing  Nuclear\n",
      "Changing Carma electricity datasets\n",
      "Saving changes to excel\n",
      "ecoinvent_2030_RCP19_DAC_2\n",
      "Changing electricity Markets\n",
      "Changing ecoinvent electricity generation datasets\n",
      "Changing  Coal_ST\n",
      "Changing  Coal_CHP\n",
      "Changing  Natural_gas_OC\n",
      "Changing  Natural_gas_CC\n",
      "Changing  Natural_gas_CHP\n",
      "Changing  Oil_ST\n",
      "Changing  Oil_CC\n",
      "Changing  Oil_CHP\n",
      "Changing  Biomass_ST\n",
      "Changing  Biomass_CHP\n",
      "Changing  Biomass_CC\n",
      "Changing  Nuclear\n",
      "Changing Carma electricity datasets\n",
      "Saving changes to excel\n"
     ]
    },
    {
     "name": "stderr",
     "output_type": "stream",
     "text": [
      "\r",
      "0% [#        ] 100% | ETA: 00:40:55"
     ]
    },
    {
     "name": "stdout",
     "output_type": "stream",
     "text": [
      "ecoinvent_2040_RCP19_DAC_2\n",
      "Changing electricity Markets\n",
      "Changing ecoinvent electricity generation datasets\n",
      "Changing  Coal_ST\n",
      "Changing  Coal_CHP\n",
      "Changing  Natural_gas_OC\n",
      "Changing  Natural_gas_CC\n",
      "Changing  Natural_gas_CHP\n",
      "Changing  Oil_ST\n",
      "Changing  Oil_CC\n",
      "Changing  Oil_CHP\n",
      "Changing  Biomass_ST\n",
      "Changing  Biomass_CHP\n",
      "Changing  Biomass_CC\n",
      "Changing  Nuclear\n",
      "Changing Carma electricity datasets\n",
      "Saving changes to excel\n"
     ]
    },
    {
     "name": "stderr",
     "output_type": "stream",
     "text": [
      "\r",
      "0% [##       ] 100% | ETA: 00:34:43"
     ]
    },
    {
     "name": "stdout",
     "output_type": "stream",
     "text": [
      "ecoinvent_2050_RCP19_DAC_2\n",
      "Changing electricity Markets\n",
      "Changing ecoinvent electricity generation datasets\n",
      "Changing  Coal_ST\n",
      "Changing  Coal_CHP\n",
      "Changing  Natural_gas_OC\n",
      "Changing  Natural_gas_CC\n",
      "Changing  Natural_gas_CHP\n",
      "Changing  Oil_ST\n",
      "Changing  Oil_CC\n",
      "Changing  Oil_CHP\n",
      "Changing  Biomass_ST\n",
      "Changing  Biomass_CHP\n",
      "Changing  Biomass_CC\n",
      "Changing  Nuclear\n",
      "Changing Carma electricity datasets\n",
      "Saving changes to excel\n"
     ]
    },
    {
     "name": "stderr",
     "output_type": "stream",
     "text": [
      "\r",
      "0% [###      ] 100% | ETA: 00:28:48"
     ]
    },
    {
     "name": "stdout",
     "output_type": "stream",
     "text": [
      "ecoinvent_2060_RCP19_DAC_2\n",
      "Changing electricity Markets\n",
      "Changing ecoinvent electricity generation datasets\n",
      "Changing  Coal_ST\n",
      "Changing  Coal_CHP\n",
      "Changing  Natural_gas_OC\n",
      "Changing  Natural_gas_CC\n",
      "Changing  Natural_gas_CHP\n",
      "Changing  Oil_ST\n",
      "Changing  Oil_CC\n",
      "Changing  Oil_CHP\n",
      "Changing  Biomass_ST\n",
      "Changing  Biomass_CHP\n",
      "Changing  Biomass_CC\n",
      "Changing  Nuclear\n",
      "Changing Carma electricity datasets\n",
      "Saving changes to excel\n"
     ]
    },
    {
     "name": "stderr",
     "output_type": "stream",
     "text": [
      "\r",
      "0% [#####    ] 100% | ETA: 00:23:01"
     ]
    },
    {
     "name": "stdout",
     "output_type": "stream",
     "text": [
      "ecoinvent_2070_RCP19_DAC_2\n",
      "Changing electricity Markets\n",
      "Changing ecoinvent electricity generation datasets\n",
      "Changing  Coal_ST\n",
      "Changing  Coal_CHP\n",
      "Changing  Natural_gas_OC\n",
      "Changing  Natural_gas_CC\n",
      "Changing  Natural_gas_CHP\n",
      "Changing  Oil_ST\n",
      "Changing  Oil_CC\n",
      "Changing  Oil_CHP\n",
      "Changing  Biomass_ST\n",
      "Changing  Biomass_CHP\n",
      "Changing  Biomass_CC\n",
      "Changing  Nuclear\n",
      "Changing Carma electricity datasets\n",
      "Saving changes to excel\n"
     ]
    },
    {
     "name": "stderr",
     "output_type": "stream",
     "text": [
      "\r",
      "0% [######   ] 100% | ETA: 00:17:08"
     ]
    },
    {
     "name": "stdout",
     "output_type": "stream",
     "text": [
      "ecoinvent_2080_RCP19_DAC_2\n",
      "Changing electricity Markets\n",
      "Changing ecoinvent electricity generation datasets\n",
      "Changing  Coal_ST\n",
      "Changing  Coal_CHP\n",
      "Changing  Natural_gas_OC\n",
      "Changing  Natural_gas_CC\n",
      "Changing  Natural_gas_CHP\n",
      "Changing  Oil_ST\n",
      "Changing  Oil_CC\n",
      "Changing  Oil_CHP\n",
      "Changing  Biomass_ST\n",
      "Changing  Biomass_CHP\n",
      "Changing  Biomass_CC\n",
      "Changing  Nuclear\n",
      "Changing Carma electricity datasets\n",
      "Saving changes to excel\n"
     ]
    },
    {
     "name": "stderr",
     "output_type": "stream",
     "text": [
      "\r",
      "0% [#######  ] 100% | ETA: 00:11:21"
     ]
    },
    {
     "name": "stdout",
     "output_type": "stream",
     "text": [
      "ecoinvent_2090_RCP19_DAC_2\n",
      "Changing electricity Markets\n",
      "Changing ecoinvent electricity generation datasets\n",
      "Changing  Coal_ST\n",
      "Changing  Coal_CHP\n",
      "Changing  Natural_gas_OC\n",
      "Changing  Natural_gas_CC\n",
      "Changing  Natural_gas_CHP\n",
      "Changing  Oil_ST\n",
      "Changing  Oil_CC\n",
      "Changing  Oil_CHP\n",
      "Changing  Biomass_ST\n",
      "Changing  Biomass_CHP\n",
      "Changing  Biomass_CC\n",
      "Changing  Nuclear\n",
      "Changing Carma electricity datasets\n",
      "Saving changes to excel\n"
     ]
    },
    {
     "name": "stderr",
     "output_type": "stream",
     "text": [
      "\r",
      "0% [######## ] 100% | ETA: 00:05:41"
     ]
    },
    {
     "name": "stdout",
     "output_type": "stream",
     "text": [
      "ecoinvent_2100_RCP19_DAC_2\n",
      "Changing electricity Markets\n",
      "Changing ecoinvent electricity generation datasets\n",
      "Changing  Coal_ST\n",
      "Changing  Coal_CHP\n",
      "Changing  Natural_gas_OC\n",
      "Changing  Natural_gas_CC\n",
      "Changing  Natural_gas_CHP\n",
      "Changing  Oil_ST\n",
      "Changing  Oil_CC\n",
      "Changing  Oil_CHP\n",
      "Changing  Biomass_ST\n",
      "Changing  Biomass_CHP\n",
      "Changing  Biomass_CC\n",
      "Changing  Nuclear\n",
      "Changing Carma electricity datasets\n",
      "Saving changes to excel\n"
     ]
    },
    {
     "name": "stderr",
     "output_type": "stream",
     "text": [
      "0% [#########] 100% | ETA: 00:00:00\n",
      "Total time elapsed: 00:51:05\n"
     ]
    }
   ],
   "source": [
    "## Update the ecoinvent database using IMAGE RCP 1.9 scenario with DAC\n",
    "\n",
    "for key in pyprind.prog_bar(database_dict_RCP19_DAC.keys()):\n",
    "    db = database_dict_RCP19_DAC[key]['db']\n",
    "    year = database_dict_RCP19_DAC[key]['year']\n",
    "    scenario = database_dict_RCP19_DAC[key]['scenario']\n",
    "    print(key)\n",
    "    # Electricity markets:\n",
    "    print('Changing electricity Markets')\n",
    "    market_changes = update_electricity_markets(db, year, scenario)\n",
    "    \n",
    "    # Electricity generation datasets:\n",
    "    print('Changing ecoinvent electricity generation datasets')\n",
    "    technology_changes = update_electricity_datasets_with_image_data(db, year, scenario, agg_func=np.average, update_efficiency = True, update_emissions = True)\n",
    "    \n",
    "    # Added electricity generation datasets (from project Carma)\n",
    "    print('Changing Carma electricity datasets')\n",
    "    modify_all_carma_electricity_datasets(db, year, scenario)\n",
    "    \n",
    "    print('Saving changes to excel')\n",
    "    tech_df = pd.DataFrame.from_dict(technology_changes)\n",
    "    tech_df.index = pd.MultiIndex.from_tuples(tech_df.index)\n",
    "    tech_df = tech_df.T\n",
    "    tech_df = tech_df.set_index([('meta data','Image technology'),('meta data','name'),('meta data','location')], drop=True).sort_index()\n",
    "    market_df = pd.DataFrame.from_dict(market_changes).T\n",
    "    market_df = market_df.set_index([('meta data','name'),('meta data','location')], drop=True).sort_index().T\n",
    "\n",
    "    writer = pd.ExcelWriter('electricity changes '+ str(year) + ' '+ scenario + '.xlsx')\n",
    "    market_df.to_excel(writer, sheet_name = 'markets')\n",
    "    for tech in tech_df.index.levels[0]:\n",
    "        tech_df.loc[tech].dropna(how='all', axis=1).swaplevel(i=0,j=1, axis=1).T.to_excel(writer, sheet_name = tech)\n",
    "    writer.save()\n",
    "    \n",
    "    #rename_locations(db, fix_names_back)"
   ]
  },
  {
   "cell_type": "code",
   "execution_count": 15,
   "metadata": {
    "collapsed": true
   },
   "outputs": [
    {
     "name": "stdout",
     "output_type": "stream",
     "text": [
      "18982 datasets\n",
      "700422 exchanges\n",
      "0 unlinked exchanges\n",
      "  \n"
     ]
    },
    {
     "name": "stderr",
     "output_type": "stream",
     "text": [
      "Writing activities to SQLite3 database:\n",
      "0% [##############################] 100% | ETA: 00:00:00\n",
      "Total time elapsed: 00:05:16\n"
     ]
    },
    {
     "name": "stdout",
     "output_type": "stream",
     "text": [
      "Title: Writing activities to SQLite3 database:\n",
      "  Started: 07/05/2021 06:58:48\n",
      "  Finished: 07/05/2021 07:04:04\n",
      "  Total time elapsed: 00:05:16\n",
      "  CPU %: 41.40\n",
      "  Memory %: 54.23\n",
      "Created database: ecoinvent_2020_RCP19_DAC_2\n",
      "18982 datasets\n",
      "713700 exchanges\n",
      "0 unlinked exchanges\n",
      "  \n"
     ]
    },
    {
     "name": "stderr",
     "output_type": "stream",
     "text": [
      "Writing activities to SQLite3 database:\n",
      "0% [##############################] 100% | ETA: 00:00:00\n",
      "Total time elapsed: 00:06:15\n"
     ]
    },
    {
     "name": "stdout",
     "output_type": "stream",
     "text": [
      "Title: Writing activities to SQLite3 database:\n",
      "  Started: 07/05/2021 07:31:06\n",
      "  Finished: 07/05/2021 07:37:21\n",
      "  Total time elapsed: 00:06:15\n",
      "  CPU %: 41.60\n",
      "  Memory %: 53.40\n",
      "Created database: ecoinvent_2030_RCP19_DAC_2\n",
      "18982 datasets\n",
      "716341 exchanges\n",
      "0 unlinked exchanges\n",
      "  \n"
     ]
    },
    {
     "name": "stderr",
     "output_type": "stream",
     "text": [
      "Writing activities to SQLite3 database:\n",
      "0% [##############################] 100% | ETA: 00:00:00\n",
      "Total time elapsed: 00:05:42\n"
     ]
    },
    {
     "name": "stdout",
     "output_type": "stream",
     "text": [
      "Title: Writing activities to SQLite3 database:\n",
      "  Started: 07/05/2021 08:03:36\n",
      "  Finished: 07/05/2021 08:09:19\n",
      "  Total time elapsed: 00:05:42\n",
      "  CPU %: 43.00\n",
      "  Memory %: 53.98\n",
      "Created database: ecoinvent_2040_RCP19_DAC_2\n",
      "18982 datasets\n",
      "717219 exchanges\n",
      "0 unlinked exchanges\n",
      "  \n"
     ]
    },
    {
     "name": "stderr",
     "output_type": "stream",
     "text": [
      "Writing activities to SQLite3 database:\n",
      "0% [##############################] 100% | ETA: 00:00:00\n",
      "Total time elapsed: 00:06:07\n"
     ]
    },
    {
     "name": "stdout",
     "output_type": "stream",
     "text": [
      "Title: Writing activities to SQLite3 database:\n",
      "  Started: 07/05/2021 08:38:03\n",
      "  Finished: 07/05/2021 08:44:10\n",
      "  Total time elapsed: 00:06:07\n",
      "  CPU %: 42.50\n",
      "  Memory %: 53.92\n",
      "Created database: ecoinvent_2050_RCP19_DAC_2\n",
      "18982 datasets\n",
      "719379 exchanges\n",
      "0 unlinked exchanges\n",
      "  \n"
     ]
    },
    {
     "name": "stderr",
     "output_type": "stream",
     "text": [
      "Writing activities to SQLite3 database:\n",
      "0% [##############################] 100% | ETA: 00:00:00\n",
      "Total time elapsed: 00:05:58\n"
     ]
    },
    {
     "name": "stdout",
     "output_type": "stream",
     "text": [
      "Title: Writing activities to SQLite3 database:\n",
      "  Started: 07/05/2021 09:13:32\n",
      "  Finished: 07/05/2021 09:19:31\n",
      "  Total time elapsed: 00:05:58\n",
      "  CPU %: 42.60\n",
      "  Memory %: 54.72\n",
      "Created database: ecoinvent_2060_RCP19_DAC_2\n",
      "18982 datasets\n",
      "714433 exchanges\n",
      "0 unlinked exchanges\n",
      "  \n"
     ]
    },
    {
     "name": "stderr",
     "output_type": "stream",
     "text": [
      "Writing activities to SQLite3 database:\n",
      "0% [##############################] 100% | ETA: 00:00:00\n",
      "Total time elapsed: 00:06:09\n"
     ]
    },
    {
     "name": "stdout",
     "output_type": "stream",
     "text": [
      "Title: Writing activities to SQLite3 database:\n",
      "  Started: 07/05/2021 09:51:10\n",
      "  Finished: 07/05/2021 09:57:20\n",
      "  Total time elapsed: 00:06:09\n",
      "  CPU %: 40.30\n",
      "  Memory %: 54.51\n",
      "Created database: ecoinvent_2070_RCP19_DAC_2\n",
      "18982 datasets\n",
      "711868 exchanges\n",
      "0 unlinked exchanges\n",
      "  \n"
     ]
    },
    {
     "name": "stderr",
     "output_type": "stream",
     "text": [
      "Writing activities to SQLite3 database:\n",
      "0% [##############################] 100% | ETA: 00:00:00\n",
      "Total time elapsed: 00:05:56\n"
     ]
    },
    {
     "name": "stdout",
     "output_type": "stream",
     "text": [
      "Title: Writing activities to SQLite3 database:\n",
      "  Started: 07/05/2021 10:29:47\n",
      "  Finished: 07/05/2021 10:35:44\n",
      "  Total time elapsed: 00:05:56\n",
      "  CPU %: 43.90\n",
      "  Memory %: 54.61\n",
      "Created database: ecoinvent_2080_RCP19_DAC_2\n",
      "18982 datasets\n",
      "711397 exchanges\n",
      "0 unlinked exchanges\n",
      "  \n"
     ]
    },
    {
     "name": "stderr",
     "output_type": "stream",
     "text": [
      "Writing activities to SQLite3 database:\n",
      "0% [##############################] 100% | ETA: 00:00:00\n",
      "Total time elapsed: 00:06:07\n"
     ]
    },
    {
     "name": "stdout",
     "output_type": "stream",
     "text": [
      "Title: Writing activities to SQLite3 database:\n",
      "  Started: 07/05/2021 11:09:01\n",
      "  Finished: 07/05/2021 11:15:08\n",
      "  Total time elapsed: 00:06:07\n",
      "  CPU %: 40.90\n",
      "  Memory %: 55.52\n",
      "Created database: ecoinvent_2090_RCP19_DAC_2\n",
      "18982 datasets\n",
      "712488 exchanges\n",
      "0 unlinked exchanges\n",
      "  \n"
     ]
    },
    {
     "name": "stderr",
     "output_type": "stream",
     "text": [
      "Writing activities to SQLite3 database:\n",
      "0% [##############################] 100% | ETA: 00:00:00\n",
      "Total time elapsed: 00:06:33\n"
     ]
    },
    {
     "name": "stdout",
     "output_type": "stream",
     "text": [
      "Title: Writing activities to SQLite3 database:\n",
      "  Started: 07/05/2021 11:48:13\n",
      "  Finished: 07/05/2021 11:54:47\n",
      "  Total time elapsed: 00:06:33\n",
      "  CPU %: 40.20\n",
      "  Memory %: 55.00\n",
      "Created database: ecoinvent_2100_RCP19_DAC_2\n"
     ]
    }
   ],
   "source": [
    "## for loop function to write databases\n",
    "\n",
    "for key in database_dict_RCP19_DAC.keys():\n",
    "    db = database_dict_RCP19_DAC[key]['db']\n",
    "    #rename_locations(db, fix_names)\n",
    "    write_brightway2_database(db, key)"
   ]
  }
 ],
 "metadata": {
  "kernelspec": {
   "display_name": "Python 3",
   "language": "python",
   "name": "python3"
  },
  "language_info": {
   "codemirror_mode": {
    "name": "ipython",
    "version": 3
   },
   "file_extension": ".py",
   "mimetype": "text/x-python",
   "name": "python",
   "nbconvert_exporter": "python",
   "pygments_lexer": "ipython3",
   "version": "3.6.12"
  }
 },
 "nbformat": 4,
 "nbformat_minor": 4
}
